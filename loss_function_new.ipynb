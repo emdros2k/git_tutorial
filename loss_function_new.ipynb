{
  "nbformat": 4,
  "nbformat_minor": 0,
  "metadata": {
    "colab": {
      "provenance": [],
      "authorship_tag": "ABX9TyPZ31Ejw7adL9SQMWVjFhGi",
      "include_colab_link": true
    },
    "kernelspec": {
      "name": "python3",
      "display_name": "Python 3"
    },
    "language_info": {
      "name": "python"
    }
  },
  "cells": [
    {
      "cell_type": "markdown",
      "metadata": {
        "id": "view-in-github",
        "colab_type": "text"
      },
      "source": [
        "<a href=\"https://colab.research.google.com/github/emdros2k/git_tutorial/blob/main/loss_function_new.ipynb\" target=\"_parent\"><img src=\"https://colab.research.google.com/assets/colab-badge.svg\" alt=\"Open In Colab\"/></a>"
      ]
    },
    {
      "cell_type": "code",
      "source": [
        "import torch\n",
        "import torch.nn\n",
        "# 불필요한 임포트 제거\n",
        "# import torchvision.transforms as transforms\n",
        "# import torchvision.datasets\n",
        "# from torchvision.datasets import MNIST\n",
        "# from torch.autograd import Variable\n",
        "# from torch.nn import Parameter\n",
        "import torch.nn as nn\n",
        "from torch import Tensor\n",
        "import torch.nn.functional as F\n",
        "from torch.utils.data import DataLoader, TensorDataset, random_split\n",
        "import math\n",
        "import pandas as pd"
      ],
      "metadata": {
        "id": "cB0c0muFdERz"
      },
      "execution_count": 4,
      "outputs": []
    },
    {
      "cell_type": "code",
      "source": [
        "A=torch.tensor([1.,2.,3.,4.,5.])#증가 방향\n",
        "B=torch.tensor([0.,1.,2.,3.,4.])#오차 음수\n",
        "B2=torch.tensor([2.,3.,4.,5.,6.])#오차 양수\n",
        "\n",
        "Ade=torch.tensor([5.,4.,3.,2.,1.])\n",
        "Bde=torch.tensor([4.,3.,2.,1.,0.])\n",
        "Bde2=torch.tensor([6.,5.,4.,3.,2.])"
      ],
      "metadata": {
        "id": "PU3Yq3fE2LRN"
      },
      "execution_count": null,
      "outputs": []
    },
    {
      "cell_type": "markdown",
      "source": [
        "1. 오차 방향에 따라 가중치를 부여한 loss function\n"
      ],
      "metadata": {
        "id": "owqNx5P927jl"
      }
    },
    {
      "cell_type": "code",
      "execution_count": 6,
      "metadata": {
        "colab": {
          "base_uri": "https://localhost:8080/"
        },
        "id": "9vbVMlDvMjoj",
        "outputId": "fbf29008-43f6-4aff-e42c-353340ca56eb"
      },
      "outputs": [
        {
          "output_type": "stream",
          "name": "stdout",
          "text": [
            "tensor(0.9841)\n"
          ]
        }
      ],
      "source": [
        "#모든 함수는 가격을 입력하는 것을 기준으로 하겠습니다\n",
        "#'가격'을 기준으로, 내리면 양의 오차의 loss를, 오르면 음의 오차 loss를 낮추고 반대는 올린다\n",
        "class LMSLoss_modify(nn.Module):\n",
        "    def __init__(self):\n",
        "        super(LMSLoss_modify, self).__init__()\n",
        "\n",
        "    def forward(self, predicted, target, gain=0.99):\n",
        "        loss = predicted - target\n",
        "\n",
        "        for i in range (1,len(predicted)):\n",
        "          if(target[i]>target[i-1]):#올랐다\n",
        "            if(loss[i]>0):\n",
        "              loss[i]=loss[i]*gain #이 경우 양의 오차는 이득이므로 loss를 줄인다\n",
        "            elif(loss[i]<0):\n",
        "              loss[i]=loss[i]*(2-gain)#음의 오차일 경우 loss를 늘린다\n",
        "\n",
        "          elif(target[i]<target[i-1]):#떨어졌다\n",
        "            if(loss[i]>0):\n",
        "              loss[i]=loss[i]*(2-gain)#양의 오차에서 loss 증가\n",
        "            elif(loss[i]<0):\n",
        "              loss[i]=loss[i]*gain#음의 오차일 경우 loss 감소\n",
        "\n",
        "        loss_modify = torch.mean(loss ** 2)\n",
        "        return loss_modify\n",
        "\n"
      ]
    },
    {
      "cell_type": "markdown",
      "source": [
        "2.sharpe loss를 이용한 loss function"
      ],
      "metadata": {
        "id": "_cK7OpkW20Ft"
      }
    },
    {
      "cell_type": "code",
      "source": [
        "class sharpe_loss(nn.Module):\n",
        "  def __init__(self):\n",
        "        super(sharpe_loss, self).__init__()\n",
        "        self.buy_count=0\n",
        "        self.buy_amount=0\n",
        "\n",
        "  def forward(self, predicted, target):\n",
        "        ratio_arr=torch.zeros(len(predicted))\n",
        "        self.buy_count+=1#몇 번 샀는가\n",
        "        self.buy_amount+=1#사서 얼마나 모였는가\n",
        "        ratio_arr[0]=1\n",
        "        for i in range(1,len(predicted)):\n",
        "          if(target[i-1]<predicted[i]):\n",
        "            self.buy_count+=1\n",
        "            self.buy_amount+=1\n",
        "            #i-1일보다 i일에 올랐을 것으로 예상되면 1단위 구입\n",
        "          self.buy_amount*=(target[i]/target[i-1])\n",
        "          #직후 i-1과 i일의 비율만큼 구입한 주식 가격이 변화한다\n",
        "          ratio_arr[i]=(self.buy_amount/self.buy_count)-1.04\n",
        "          #배열에 각 날짜의 수익률을 저장한다\n",
        "        std=torch.std(ratio_arr)\n",
        "        ans=(-1*ratio_arr[-1])/std\n",
        "        return math.exp(ans)\n",
        "\n",
        "\n",
        "    #'샤프 비율' (기대 수익률-기준 수익률)/표준편차(기대 수익률-기준 수익률)\n"
      ],
      "metadata": {
        "colab": {
          "base_uri": "https://localhost:8080/"
        },
        "id": "YZOP2muTdCU3",
        "outputId": "159ae397-7d64-4c25-df42-9b5b12fffaec"
      },
      "execution_count": 13,
      "outputs": [
        {
          "output_type": "stream",
          "name": "stdout",
          "text": [
            "0.01387242727157809\n"
          ]
        }
      ]
    },
    {
      "cell_type": "code",
      "source": [
        "func=LMSLoss_modify()\n",
        "ans=func(Bde,Ade)\n",
        "\n",
        "print(ans)\n",
        "\n",
        "func2=sharpe_loss()\n",
        "ans=func2(B2,A)\n",
        "print(ans)"
      ],
      "metadata": {
        "id": "qwItOSu62OSO"
      },
      "execution_count": null,
      "outputs": []
    }
  ]
}